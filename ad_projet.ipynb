{
  "nbformat": 4,
  "nbformat_minor": 0,
  "metadata": {
    "colab": {
      "name": "ad_projet.ipynb",
      "provenance": []
    },
    "kernelspec": {
      "name": "python3",
      "display_name": "Python 3"
    }
  },
  "cells": [
    {
      "cell_type": "code",
      "metadata": {
        "id": "mVUouDA9cyfM",
        "colab_type": "code",
        "outputId": "97243108-1227-4010-d6ba-5c29ff83afb6",
        "colab": {
          "base_uri": "https://localhost:8080/",
          "height": 71
        }
      },
      "source": [
        "import numpy as np\n",
        "import pandas as pd\n",
        "import matplotlib.pyplot as plt\n",
        "import seaborn as sns\n",
        "from pandas.plotting import scatter_matrix \n",
        "from sklearn.preprocessing import StandardScaler"
      ],
      "execution_count": 0,
      "outputs": [
        {
          "output_type": "stream",
          "text": [
            "/usr/local/lib/python3.6/dist-packages/statsmodels/tools/_testing.py:19: FutureWarning: pandas.util.testing is deprecated. Use the functions in the public API at pandas.testing instead.\n",
            "  import pandas.util.testing as tm\n"
          ],
          "name": "stderr"
        }
      ]
    },
    {
      "cell_type": "code",
      "metadata": {
        "id": "AZ2WXmoKdKHs",
        "colab_type": "code",
        "outputId": "385f5eb2-f287-461f-ca24-efad564fd6f5",
        "colab": {
          "resources": {
            "http://localhost:8080/nbextensions/google.colab/files.js": {
              "data": "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",
              "ok": true,
              "headers": [
                [
                  "content-type",
                  "application/javascript"
                ]
              ],
              "status": 200,
              "status_text": ""
            }
          },
          "base_uri": "https://localhost:8080/",
          "height": 74
        }
      },
      "source": [
        "from google.colab import files\n",
        "uploaded = files.upload() #upload the dataset to google colab"
      ],
      "execution_count": 0,
      "outputs": [
        {
          "output_type": "display_data",
          "data": {
            "text/html": [
              "\n",
              "     <input type=\"file\" id=\"files-da4326fa-1232-4a23-8a7b-4216504f6acd\" name=\"files[]\" multiple disabled />\n",
              "     <output id=\"result-da4326fa-1232-4a23-8a7b-4216504f6acd\">\n",
              "      Upload widget is only available when the cell has been executed in the\n",
              "      current browser session. Please rerun this cell to enable.\n",
              "      </output>\n",
              "      <script src=\"/nbextensions/google.colab/files.js\"></script> "
            ],
            "text/plain": [
              "<IPython.core.display.HTML object>"
            ]
          },
          "metadata": {
            "tags": []
          }
        },
        {
          "output_type": "stream",
          "text": [
            "Saving covid-19-all.csv to covid-19-all.csv\n"
          ],
          "name": "stdout"
        }
      ]
    },
    {
      "cell_type": "code",
      "metadata": {
        "id": "T2roWbOQdQjZ",
        "colab_type": "code",
        "colab": {}
      },
      "source": [
        "data= pd.read_csv(\"/content/covid-19-all.csv\")"
      ],
      "execution_count": 0,
      "outputs": []
    },
    {
      "cell_type": "code",
      "metadata": {
        "id": "3uDCexTwdX5T",
        "colab_type": "code",
        "outputId": "3181d6c3-28a2-46c8-b43c-b9a2fc7a3265",
        "colab": {
          "base_uri": "https://localhost:8080/",
          "height": 204
        }
      },
      "source": [
        "data.head()"
      ],
      "execution_count": 0,
      "outputs": [
        {
          "output_type": "execute_result",
          "data": {
            "text/html": [
              "<div>\n",
              "<style scoped>\n",
              "    .dataframe tbody tr th:only-of-type {\n",
              "        vertical-align: middle;\n",
              "    }\n",
              "\n",
              "    .dataframe tbody tr th {\n",
              "        vertical-align: top;\n",
              "    }\n",
              "\n",
              "    .dataframe thead th {\n",
              "        text-align: right;\n",
              "    }\n",
              "</style>\n",
              "<table border=\"1\" class=\"dataframe\">\n",
              "  <thead>\n",
              "    <tr style=\"text-align: right;\">\n",
              "      <th></th>\n",
              "      <th>Country</th>\n",
              "      <th>State</th>\n",
              "      <th>Latitude</th>\n",
              "      <th>Longitude</th>\n",
              "      <th>Confirmed</th>\n",
              "      <th>Recovered</th>\n",
              "      <th>Deaths</th>\n",
              "      <th>Date</th>\n",
              "    </tr>\n",
              "  </thead>\n",
              "  <tbody>\n",
              "    <tr>\n",
              "      <th>0</th>\n",
              "      <td>China</td>\n",
              "      <td>Anhui</td>\n",
              "      <td>31.8257</td>\n",
              "      <td>117.2264</td>\n",
              "      <td>1.0</td>\n",
              "      <td>NaN</td>\n",
              "      <td>NaN</td>\n",
              "      <td>2020-01-22</td>\n",
              "    </tr>\n",
              "    <tr>\n",
              "      <th>1</th>\n",
              "      <td>China</td>\n",
              "      <td>Beijing</td>\n",
              "      <td>40.1824</td>\n",
              "      <td>116.4142</td>\n",
              "      <td>14.0</td>\n",
              "      <td>NaN</td>\n",
              "      <td>NaN</td>\n",
              "      <td>2020-01-22</td>\n",
              "    </tr>\n",
              "    <tr>\n",
              "      <th>2</th>\n",
              "      <td>China</td>\n",
              "      <td>Chongqing</td>\n",
              "      <td>30.0572</td>\n",
              "      <td>107.8740</td>\n",
              "      <td>6.0</td>\n",
              "      <td>NaN</td>\n",
              "      <td>NaN</td>\n",
              "      <td>2020-01-22</td>\n",
              "    </tr>\n",
              "    <tr>\n",
              "      <th>3</th>\n",
              "      <td>China</td>\n",
              "      <td>Fujian</td>\n",
              "      <td>26.0789</td>\n",
              "      <td>117.9874</td>\n",
              "      <td>1.0</td>\n",
              "      <td>NaN</td>\n",
              "      <td>NaN</td>\n",
              "      <td>2020-01-22</td>\n",
              "    </tr>\n",
              "    <tr>\n",
              "      <th>4</th>\n",
              "      <td>China</td>\n",
              "      <td>Gansu</td>\n",
              "      <td>36.0611</td>\n",
              "      <td>103.8343</td>\n",
              "      <td>NaN</td>\n",
              "      <td>NaN</td>\n",
              "      <td>NaN</td>\n",
              "      <td>2020-01-22</td>\n",
              "    </tr>\n",
              "  </tbody>\n",
              "</table>\n",
              "</div>"
            ],
            "text/plain": [
              "  Country      State  Latitude  ...  Recovered  Deaths        Date\n",
              "0   China      Anhui   31.8257  ...        NaN     NaN  2020-01-22\n",
              "1   China    Beijing   40.1824  ...        NaN     NaN  2020-01-22\n",
              "2   China  Chongqing   30.0572  ...        NaN     NaN  2020-01-22\n",
              "3   China     Fujian   26.0789  ...        NaN     NaN  2020-01-22\n",
              "4   China      Gansu   36.0611  ...        NaN     NaN  2020-01-22\n",
              "\n",
              "[5 rows x 8 columns]"
            ]
          },
          "metadata": {
            "tags": []
          },
          "execution_count": 4
        }
      ]
    },
    {
      "cell_type": "code",
      "metadata": {
        "id": "Oj9D92hcOzMU",
        "colab_type": "code",
        "colab": {}
      },
      "source": [
        "country ='Tunisia'\n",
        "df = data[data['Country'] ==  country]"
      ],
      "execution_count": 0,
      "outputs": []
    },
    {
      "cell_type": "code",
      "metadata": {
        "id": "hDxxSplQPL7L",
        "colab_type": "code",
        "outputId": "ec03cd39-15f5-424b-dbb6-9f4f9569dc79",
        "colab": {
          "base_uri": "https://localhost:8080/",
          "height": 221
        }
      },
      "source": [
        "print(\"Les 5 premiers jours du covid-19 en Tunisie\")\n",
        "df.head()"
      ],
      "execution_count": 0,
      "outputs": [
        {
          "output_type": "stream",
          "text": [
            "Les 5 premiers jours du covid-19 en Tunisie\n"
          ],
          "name": "stdout"
        },
        {
          "output_type": "execute_result",
          "data": {
            "text/html": [
              "<div>\n",
              "<style scoped>\n",
              "    .dataframe tbody tr th:only-of-type {\n",
              "        vertical-align: middle;\n",
              "    }\n",
              "\n",
              "    .dataframe tbody tr th {\n",
              "        vertical-align: top;\n",
              "    }\n",
              "\n",
              "    .dataframe thead th {\n",
              "        text-align: right;\n",
              "    }\n",
              "</style>\n",
              "<table border=\"1\" class=\"dataframe\">\n",
              "  <thead>\n",
              "    <tr style=\"text-align: right;\">\n",
              "      <th></th>\n",
              "      <th>Country</th>\n",
              "      <th>State</th>\n",
              "      <th>Latitude</th>\n",
              "      <th>Longitude</th>\n",
              "      <th>Confirmed</th>\n",
              "      <th>Recovered</th>\n",
              "      <th>Deaths</th>\n",
              "      <th>Date</th>\n",
              "    </tr>\n",
              "  </thead>\n",
              "  <tbody>\n",
              "    <tr>\n",
              "      <th>3375</th>\n",
              "      <td>Tunisia</td>\n",
              "      <td>NaN</td>\n",
              "      <td>34.0000</td>\n",
              "      <td>9.0000</td>\n",
              "      <td>1.0</td>\n",
              "      <td>0.0</td>\n",
              "      <td>0.0</td>\n",
              "      <td>2020-03-04</td>\n",
              "    </tr>\n",
              "    <tr>\n",
              "      <th>3543</th>\n",
              "      <td>Tunisia</td>\n",
              "      <td>NaN</td>\n",
              "      <td>34.0000</td>\n",
              "      <td>9.0000</td>\n",
              "      <td>1.0</td>\n",
              "      <td>0.0</td>\n",
              "      <td>0.0</td>\n",
              "      <td>2020-03-05</td>\n",
              "    </tr>\n",
              "    <tr>\n",
              "      <th>3732</th>\n",
              "      <td>Tunisia</td>\n",
              "      <td>NaN</td>\n",
              "      <td>34.0000</td>\n",
              "      <td>9.0000</td>\n",
              "      <td>1.0</td>\n",
              "      <td>0.0</td>\n",
              "      <td>0.0</td>\n",
              "      <td>2020-03-06</td>\n",
              "    </tr>\n",
              "    <tr>\n",
              "      <th>3947</th>\n",
              "      <td>Tunisia</td>\n",
              "      <td>NaN</td>\n",
              "      <td>34.0000</td>\n",
              "      <td>9.0000</td>\n",
              "      <td>1.0</td>\n",
              "      <td>0.0</td>\n",
              "      <td>0.0</td>\n",
              "      <td>2020-03-07</td>\n",
              "    </tr>\n",
              "    <tr>\n",
              "      <th>4148</th>\n",
              "      <td>Tunisia</td>\n",
              "      <td>NaN</td>\n",
              "      <td>33.8869</td>\n",
              "      <td>9.5375</td>\n",
              "      <td>2.0</td>\n",
              "      <td>0.0</td>\n",
              "      <td>0.0</td>\n",
              "      <td>2020-03-08</td>\n",
              "    </tr>\n",
              "  </tbody>\n",
              "</table>\n",
              "</div>"
            ],
            "text/plain": [
              "      Country State  Latitude  ...  Recovered  Deaths        Date\n",
              "3375  Tunisia   NaN   34.0000  ...        0.0     0.0  2020-03-04\n",
              "3543  Tunisia   NaN   34.0000  ...        0.0     0.0  2020-03-05\n",
              "3732  Tunisia   NaN   34.0000  ...        0.0     0.0  2020-03-06\n",
              "3947  Tunisia   NaN   34.0000  ...        0.0     0.0  2020-03-07\n",
              "4148  Tunisia   NaN   33.8869  ...        0.0     0.0  2020-03-08\n",
              "\n",
              "[5 rows x 8 columns]"
            ]
          },
          "metadata": {
            "tags": []
          },
          "execution_count": 6
        }
      ]
    },
    {
      "cell_type": "code",
      "metadata": {
        "id": "rwpoiAMaPNUl",
        "colab_type": "code",
        "outputId": "c615b27c-47a3-44ba-e0ed-dc7bf450104d",
        "colab": {
          "base_uri": "https://localhost:8080/",
          "height": 221
        }
      },
      "source": [
        "print(\"Les 5 derniers jours du covid-19 en Tunisie\")\n",
        "df.tail()"
      ],
      "execution_count": 0,
      "outputs": [
        {
          "output_type": "stream",
          "text": [
            "Les 5 derniers jours du covid-19 en Tunisie\n"
          ],
          "name": "stdout"
        },
        {
          "output_type": "execute_result",
          "data": {
            "text/html": [
              "<div>\n",
              "<style scoped>\n",
              "    .dataframe tbody tr th:only-of-type {\n",
              "        vertical-align: middle;\n",
              "    }\n",
              "\n",
              "    .dataframe tbody tr th {\n",
              "        vertical-align: top;\n",
              "    }\n",
              "\n",
              "    .dataframe thead th {\n",
              "        text-align: right;\n",
              "    }\n",
              "</style>\n",
              "<table border=\"1\" class=\"dataframe\">\n",
              "  <thead>\n",
              "    <tr style=\"text-align: right;\">\n",
              "      <th></th>\n",
              "      <th>Country</th>\n",
              "      <th>State</th>\n",
              "      <th>Latitude</th>\n",
              "      <th>Longitude</th>\n",
              "      <th>Confirmed</th>\n",
              "      <th>Recovered</th>\n",
              "      <th>Deaths</th>\n",
              "      <th>Date</th>\n",
              "    </tr>\n",
              "  </thead>\n",
              "  <tbody>\n",
              "    <tr>\n",
              "      <th>45913</th>\n",
              "      <td>Tunisia</td>\n",
              "      <td>NaN</td>\n",
              "      <td>33.886917</td>\n",
              "      <td>9.537499</td>\n",
              "      <td>455.0</td>\n",
              "      <td>5.0</td>\n",
              "      <td>14.0</td>\n",
              "      <td>2020-04-02</td>\n",
              "    </tr>\n",
              "    <tr>\n",
              "      <th>48538</th>\n",
              "      <td>Tunisia</td>\n",
              "      <td>NaN</td>\n",
              "      <td>33.886917</td>\n",
              "      <td>9.537499</td>\n",
              "      <td>495.0</td>\n",
              "      <td>5.0</td>\n",
              "      <td>18.0</td>\n",
              "      <td>2020-04-03</td>\n",
              "    </tr>\n",
              "    <tr>\n",
              "      <th>51217</th>\n",
              "      <td>Tunisia</td>\n",
              "      <td>NaN</td>\n",
              "      <td>33.886917</td>\n",
              "      <td>9.537499</td>\n",
              "      <td>553.0</td>\n",
              "      <td>5.0</td>\n",
              "      <td>18.0</td>\n",
              "      <td>2020-04-04</td>\n",
              "    </tr>\n",
              "    <tr>\n",
              "      <th>53980</th>\n",
              "      <td>Tunisia</td>\n",
              "      <td>NaN</td>\n",
              "      <td>33.886917</td>\n",
              "      <td>9.537499</td>\n",
              "      <td>574.0</td>\n",
              "      <td>5.0</td>\n",
              "      <td>22.0</td>\n",
              "      <td>2020-04-05</td>\n",
              "    </tr>\n",
              "    <tr>\n",
              "      <th>56789</th>\n",
              "      <td>Tunisia</td>\n",
              "      <td>NaN</td>\n",
              "      <td>33.886917</td>\n",
              "      <td>9.537499</td>\n",
              "      <td>596.0</td>\n",
              "      <td>5.0</td>\n",
              "      <td>22.0</td>\n",
              "      <td>2020-04-06</td>\n",
              "    </tr>\n",
              "  </tbody>\n",
              "</table>\n",
              "</div>"
            ],
            "text/plain": [
              "       Country State   Latitude  ...  Recovered  Deaths        Date\n",
              "45913  Tunisia   NaN  33.886917  ...        5.0    14.0  2020-04-02\n",
              "48538  Tunisia   NaN  33.886917  ...        5.0    18.0  2020-04-03\n",
              "51217  Tunisia   NaN  33.886917  ...        5.0    18.0  2020-04-04\n",
              "53980  Tunisia   NaN  33.886917  ...        5.0    22.0  2020-04-05\n",
              "56789  Tunisia   NaN  33.886917  ...        5.0    22.0  2020-04-06\n",
              "\n",
              "[5 rows x 8 columns]"
            ]
          },
          "metadata": {
            "tags": []
          },
          "execution_count": 7
        }
      ]
    },
    {
      "cell_type": "code",
      "metadata": {
        "id": "nxPCvsZkPYGK",
        "colab_type": "code",
        "outputId": "2b9427a9-ad7c-4a88-faee-4176fbec387f",
        "colab": {
          "base_uri": "https://localhost:8080/",
          "height": 419
        }
      },
      "source": [
        "d =  '2020-04-06'\n",
        "covid = data[data['Date'] == d  ]\n",
        "covid"
      ],
      "execution_count": 0,
      "outputs": [
        {
          "output_type": "execute_result",
          "data": {
            "text/html": [
              "<div>\n",
              "<style scoped>\n",
              "    .dataframe tbody tr th:only-of-type {\n",
              "        vertical-align: middle;\n",
              "    }\n",
              "\n",
              "    .dataframe tbody tr th {\n",
              "        vertical-align: top;\n",
              "    }\n",
              "\n",
              "    .dataframe thead th {\n",
              "        text-align: right;\n",
              "    }\n",
              "</style>\n",
              "<table border=\"1\" class=\"dataframe\">\n",
              "  <thead>\n",
              "    <tr style=\"text-align: right;\">\n",
              "      <th></th>\n",
              "      <th>Country</th>\n",
              "      <th>State</th>\n",
              "      <th>Latitude</th>\n",
              "      <th>Longitude</th>\n",
              "      <th>Confirmed</th>\n",
              "      <th>Recovered</th>\n",
              "      <th>Deaths</th>\n",
              "      <th>Date</th>\n",
              "    </tr>\n",
              "  </thead>\n",
              "  <tbody>\n",
              "    <tr>\n",
              "      <th>53995</th>\n",
              "      <td>US</td>\n",
              "      <td>South Carolina</td>\n",
              "      <td>34.223334</td>\n",
              "      <td>-82.461707</td>\n",
              "      <td>6.0</td>\n",
              "      <td>0.0</td>\n",
              "      <td>0.0</td>\n",
              "      <td>2020-04-06</td>\n",
              "    </tr>\n",
              "    <tr>\n",
              "      <th>53996</th>\n",
              "      <td>US</td>\n",
              "      <td>Louisiana</td>\n",
              "      <td>30.295065</td>\n",
              "      <td>-92.414197</td>\n",
              "      <td>79.0</td>\n",
              "      <td>0.0</td>\n",
              "      <td>2.0</td>\n",
              "      <td>2020-04-06</td>\n",
              "    </tr>\n",
              "    <tr>\n",
              "      <th>53997</th>\n",
              "      <td>US</td>\n",
              "      <td>Virginia</td>\n",
              "      <td>37.767072</td>\n",
              "      <td>-75.632346</td>\n",
              "      <td>11.0</td>\n",
              "      <td>0.0</td>\n",
              "      <td>0.0</td>\n",
              "      <td>2020-04-06</td>\n",
              "    </tr>\n",
              "    <tr>\n",
              "      <th>53998</th>\n",
              "      <td>US</td>\n",
              "      <td>Idaho</td>\n",
              "      <td>43.452658</td>\n",
              "      <td>-116.241552</td>\n",
              "      <td>402.0</td>\n",
              "      <td>0.0</td>\n",
              "      <td>3.0</td>\n",
              "      <td>2020-04-06</td>\n",
              "    </tr>\n",
              "    <tr>\n",
              "      <th>53999</th>\n",
              "      <td>US</td>\n",
              "      <td>Iowa</td>\n",
              "      <td>41.330756</td>\n",
              "      <td>-94.471059</td>\n",
              "      <td>1.0</td>\n",
              "      <td>0.0</td>\n",
              "      <td>0.0</td>\n",
              "      <td>2020-04-06</td>\n",
              "    </tr>\n",
              "    <tr>\n",
              "      <th>...</th>\n",
              "      <td>...</td>\n",
              "      <td>...</td>\n",
              "      <td>...</td>\n",
              "      <td>...</td>\n",
              "      <td>...</td>\n",
              "      <td>...</td>\n",
              "      <td>...</td>\n",
              "      <td>...</td>\n",
              "    </tr>\n",
              "    <tr>\n",
              "      <th>56799</th>\n",
              "      <td>West Bank and Gaza</td>\n",
              "      <td>NaN</td>\n",
              "      <td>31.952200</td>\n",
              "      <td>35.233200</td>\n",
              "      <td>254.0</td>\n",
              "      <td>24.0</td>\n",
              "      <td>1.0</td>\n",
              "      <td>2020-04-06</td>\n",
              "    </tr>\n",
              "    <tr>\n",
              "      <th>56800</th>\n",
              "      <td>Western Sahara</td>\n",
              "      <td>NaN</td>\n",
              "      <td>24.215500</td>\n",
              "      <td>-12.885800</td>\n",
              "      <td>4.0</td>\n",
              "      <td>0.0</td>\n",
              "      <td>0.0</td>\n",
              "      <td>2020-04-06</td>\n",
              "    </tr>\n",
              "    <tr>\n",
              "      <th>56801</th>\n",
              "      <td>Zambia</td>\n",
              "      <td>NaN</td>\n",
              "      <td>-13.133897</td>\n",
              "      <td>27.849332</td>\n",
              "      <td>39.0</td>\n",
              "      <td>5.0</td>\n",
              "      <td>1.0</td>\n",
              "      <td>2020-04-06</td>\n",
              "    </tr>\n",
              "    <tr>\n",
              "      <th>56802</th>\n",
              "      <td>Zimbabwe</td>\n",
              "      <td>NaN</td>\n",
              "      <td>-19.015438</td>\n",
              "      <td>29.154857</td>\n",
              "      <td>10.0</td>\n",
              "      <td>0.0</td>\n",
              "      <td>1.0</td>\n",
              "      <td>2020-04-06</td>\n",
              "    </tr>\n",
              "    <tr>\n",
              "      <th>56803</th>\n",
              "      <td>US</td>\n",
              "      <td>Wyoming</td>\n",
              "      <td>42.972723</td>\n",
              "      <td>-106.932608</td>\n",
              "      <td>0.0</td>\n",
              "      <td>0.0</td>\n",
              "      <td>0.0</td>\n",
              "      <td>2020-04-06</td>\n",
              "    </tr>\n",
              "  </tbody>\n",
              "</table>\n",
              "<p>2809 rows × 8 columns</p>\n",
              "</div>"
            ],
            "text/plain": [
              "                  Country           State  ...  Deaths        Date\n",
              "53995                  US  South Carolina  ...     0.0  2020-04-06\n",
              "53996                  US       Louisiana  ...     2.0  2020-04-06\n",
              "53997                  US        Virginia  ...     0.0  2020-04-06\n",
              "53998                  US           Idaho  ...     3.0  2020-04-06\n",
              "53999                  US            Iowa  ...     0.0  2020-04-06\n",
              "...                   ...             ...  ...     ...         ...\n",
              "56799  West Bank and Gaza             NaN  ...     1.0  2020-04-06\n",
              "56800      Western Sahara             NaN  ...     0.0  2020-04-06\n",
              "56801              Zambia             NaN  ...     1.0  2020-04-06\n",
              "56802            Zimbabwe             NaN  ...     1.0  2020-04-06\n",
              "56803                  US         Wyoming  ...     0.0  2020-04-06\n",
              "\n",
              "[2809 rows x 8 columns]"
            ]
          },
          "metadata": {
            "tags": []
          },
          "execution_count": 8
        }
      ]
    },
    {
      "cell_type": "code",
      "metadata": {
        "id": "rGE8MGqAPydZ",
        "colab_type": "code",
        "outputId": "4bd404bc-f537-4f97-ec90-affc69cb637f",
        "colab": {
          "base_uri": "https://localhost:8080/",
          "height": 272
        }
      },
      "source": [
        "covid.info()"
      ],
      "execution_count": 0,
      "outputs": [
        {
          "output_type": "stream",
          "text": [
            "<class 'pandas.core.frame.DataFrame'>\n",
            "Int64Index: 2809 entries, 53995 to 56803\n",
            "Data columns (total 8 columns):\n",
            " #   Column     Non-Null Count  Dtype  \n",
            "---  ------     --------------  -----  \n",
            " 0   Country    2809 non-null   object \n",
            " 1   State      2629 non-null   object \n",
            " 2   Latitude   2809 non-null   float64\n",
            " 3   Longitude  2809 non-null   float64\n",
            " 4   Confirmed  2809 non-null   float64\n",
            " 5   Recovered  2809 non-null   float64\n",
            " 6   Deaths     2809 non-null   float64\n",
            " 7   Date       2809 non-null   object \n",
            "dtypes: float64(5), object(3)\n",
            "memory usage: 197.5+ KB\n"
          ],
          "name": "stdout"
        }
      ]
    },
    {
      "cell_type": "code",
      "metadata": {
        "id": "5YKTdE9yQJyY",
        "colab_type": "code",
        "outputId": "5e509856-b03e-41f8-beb8-716bb55d7d49",
        "colab": {
          "base_uri": "https://localhost:8080/",
          "height": 170
        }
      },
      "source": [
        "covid.isnull().sum()"
      ],
      "execution_count": 0,
      "outputs": [
        {
          "output_type": "execute_result",
          "data": {
            "text/plain": [
              "Country        0\n",
              "State        180\n",
              "Latitude       0\n",
              "Longitude      0\n",
              "Confirmed      0\n",
              "Recovered      0\n",
              "Deaths         0\n",
              "Date           0\n",
              "dtype: int64"
            ]
          },
          "metadata": {
            "tags": []
          },
          "execution_count": 10
        }
      ]
    },
    {
      "cell_type": "code",
      "metadata": {
        "id": "cUeirciCQa0S",
        "colab_type": "code",
        "colab": {}
      },
      "source": [
        "copy = covid"
      ],
      "execution_count": 0,
      "outputs": []
    },
    {
      "cell_type": "code",
      "metadata": {
        "id": "vOuMXlv-5U8s",
        "colab_type": "code",
        "outputId": "b3235263-7ee2-4545-99f1-eba61d943515",
        "colab": {
          "base_uri": "https://localhost:8080/",
          "height": 139
        }
      },
      "source": [
        " copy['Confirmed']= copy.groupby(['Country'] ).Confirmed.transform('sum')  "
      ],
      "execution_count": 0,
      "outputs": [
        {
          "output_type": "stream",
          "text": [
            "/usr/local/lib/python3.6/dist-packages/ipykernel_launcher.py:1: SettingWithCopyWarning: \n",
            "A value is trying to be set on a copy of a slice from a DataFrame.\n",
            "Try using .loc[row_indexer,col_indexer] = value instead\n",
            "\n",
            "See the caveats in the documentation: https://pandas.pydata.org/pandas-docs/stable/user_guide/indexing.html#returning-a-view-versus-a-copy\n",
            "  \"\"\"Entry point for launching an IPython kernel.\n"
          ],
          "name": "stderr"
        }
      ]
    },
    {
      "cell_type": "code",
      "metadata": {
        "id": "SBv4iJP57Mqu",
        "colab_type": "code",
        "outputId": "45a9be3c-a438-44ea-8f42-037cda56d025",
        "colab": {
          "base_uri": "https://localhost:8080/",
          "height": 139
        }
      },
      "source": [
        " copy['Recovered']= copy.groupby(['Country'] ).Recovered.transform('sum')  "
      ],
      "execution_count": 0,
      "outputs": [
        {
          "output_type": "stream",
          "text": [
            "/usr/local/lib/python3.6/dist-packages/ipykernel_launcher.py:1: SettingWithCopyWarning: \n",
            "A value is trying to be set on a copy of a slice from a DataFrame.\n",
            "Try using .loc[row_indexer,col_indexer] = value instead\n",
            "\n",
            "See the caveats in the documentation: https://pandas.pydata.org/pandas-docs/stable/user_guide/indexing.html#returning-a-view-versus-a-copy\n",
            "  \"\"\"Entry point for launching an IPython kernel.\n"
          ],
          "name": "stderr"
        }
      ]
    },
    {
      "cell_type": "code",
      "metadata": {
        "id": "grAk_W_N7QIA",
        "colab_type": "code",
        "outputId": "e3c32af0-e778-4c1b-ffee-37cab8976da1",
        "colab": {
          "base_uri": "https://localhost:8080/",
          "height": 139
        }
      },
      "source": [
        " copy['Deaths']= copy.groupby(['Country'] ).Deaths.transform('sum')  "
      ],
      "execution_count": 0,
      "outputs": [
        {
          "output_type": "stream",
          "text": [
            "/usr/local/lib/python3.6/dist-packages/ipykernel_launcher.py:1: SettingWithCopyWarning: \n",
            "A value is trying to be set on a copy of a slice from a DataFrame.\n",
            "Try using .loc[row_indexer,col_indexer] = value instead\n",
            "\n",
            "See the caveats in the documentation: https://pandas.pydata.org/pandas-docs/stable/user_guide/indexing.html#returning-a-view-versus-a-copy\n",
            "  \"\"\"Entry point for launching an IPython kernel.\n"
          ],
          "name": "stderr"
        }
      ]
    },
    {
      "cell_type": "code",
      "metadata": {
        "id": "GvyKQg1dbWre",
        "colab_type": "code",
        "colab": {}
      },
      "source": [
        "copy=copy.drop_duplicates(subset =\"Country\",keep='first')"
      ],
      "execution_count": 0,
      "outputs": []
    },
    {
      "cell_type": "code",
      "metadata": {
        "id": "SFh-reye8bKj",
        "colab_type": "code",
        "colab": {}
      },
      "source": [
        "copy=copy.drop(['State','Date'],axis=1)"
      ],
      "execution_count": 0,
      "outputs": []
    },
    {
      "cell_type": "code",
      "metadata": {
        "id": "2NRkdPB48xx9",
        "colab_type": "code",
        "outputId": "fcc1c5ff-6604-4b2c-da97-ee193e018981",
        "colab": {
          "base_uri": "https://localhost:8080/",
          "height": 204
        }
      },
      "source": [
        "copy.head()"
      ],
      "execution_count": 0,
      "outputs": [
        {
          "output_type": "execute_result",
          "data": {
            "text/html": [
              "<div>\n",
              "<style scoped>\n",
              "    .dataframe tbody tr th:only-of-type {\n",
              "        vertical-align: middle;\n",
              "    }\n",
              "\n",
              "    .dataframe tbody tr th {\n",
              "        vertical-align: top;\n",
              "    }\n",
              "\n",
              "    .dataframe thead th {\n",
              "        text-align: right;\n",
              "    }\n",
              "</style>\n",
              "<table border=\"1\" class=\"dataframe\">\n",
              "  <thead>\n",
              "    <tr style=\"text-align: right;\">\n",
              "      <th></th>\n",
              "      <th>Country</th>\n",
              "      <th>Latitude</th>\n",
              "      <th>Longitude</th>\n",
              "      <th>Confirmed</th>\n",
              "      <th>Recovered</th>\n",
              "      <th>Deaths</th>\n",
              "    </tr>\n",
              "  </thead>\n",
              "  <tbody>\n",
              "    <tr>\n",
              "      <th>53995</th>\n",
              "      <td>US</td>\n",
              "      <td>34.223334</td>\n",
              "      <td>-82.461707</td>\n",
              "      <td>366614.0</td>\n",
              "      <td>19581.0</td>\n",
              "      <td>10783.0</td>\n",
              "    </tr>\n",
              "    <tr>\n",
              "      <th>56534</th>\n",
              "      <td>Canada</td>\n",
              "      <td>53.933300</td>\n",
              "      <td>-116.576500</td>\n",
              "      <td>16563.0</td>\n",
              "      <td>3256.0</td>\n",
              "      <td>339.0</td>\n",
              "    </tr>\n",
              "    <tr>\n",
              "      <th>56535</th>\n",
              "      <td>United Kingdom</td>\n",
              "      <td>18.220600</td>\n",
              "      <td>-63.068600</td>\n",
              "      <td>52279.0</td>\n",
              "      <td>287.0</td>\n",
              "      <td>5385.0</td>\n",
              "    </tr>\n",
              "    <tr>\n",
              "      <th>56536</th>\n",
              "      <td>China</td>\n",
              "      <td>31.825700</td>\n",
              "      <td>117.226400</td>\n",
              "      <td>82665.0</td>\n",
              "      <td>77310.0</td>\n",
              "      <td>3335.0</td>\n",
              "    </tr>\n",
              "    <tr>\n",
              "      <th>56537</th>\n",
              "      <td>Netherlands</td>\n",
              "      <td>12.521100</td>\n",
              "      <td>-69.968300</td>\n",
              "      <td>18926.0</td>\n",
              "      <td>258.0</td>\n",
              "      <td>1874.0</td>\n",
              "    </tr>\n",
              "  </tbody>\n",
              "</table>\n",
              "</div>"
            ],
            "text/plain": [
              "              Country   Latitude   Longitude  Confirmed  Recovered   Deaths\n",
              "53995              US  34.223334  -82.461707   366614.0    19581.0  10783.0\n",
              "56534          Canada  53.933300 -116.576500    16563.0     3256.0    339.0\n",
              "56535  United Kingdom  18.220600  -63.068600    52279.0      287.0   5385.0\n",
              "56536           China  31.825700  117.226400    82665.0    77310.0   3335.0\n",
              "56537     Netherlands  12.521100  -69.968300    18926.0      258.0   1874.0"
            ]
          },
          "metadata": {
            "tags": []
          },
          "execution_count": 17
        }
      ]
    },
    {
      "cell_type": "code",
      "metadata": {
        "id": "SGKsvn_Qd3aV",
        "colab_type": "code",
        "outputId": "48373752-cd7a-471e-b41e-a2d67a90a25c",
        "colab": {
          "base_uri": "https://localhost:8080/",
          "height": 314
        }
      },
      "source": [
        "print(\"Analyse descriptive des donnees\")\n",
        "copy.describe()"
      ],
      "execution_count": 0,
      "outputs": [
        {
          "output_type": "stream",
          "text": [
            "Analyse descriptive des donnees\n"
          ],
          "name": "stdout"
        },
        {
          "output_type": "execute_result",
          "data": {
            "text/html": [
              "<div>\n",
              "<style scoped>\n",
              "    .dataframe tbody tr th:only-of-type {\n",
              "        vertical-align: middle;\n",
              "    }\n",
              "\n",
              "    .dataframe tbody tr th {\n",
              "        vertical-align: top;\n",
              "    }\n",
              "\n",
              "    .dataframe thead th {\n",
              "        text-align: right;\n",
              "    }\n",
              "</style>\n",
              "<table border=\"1\" class=\"dataframe\">\n",
              "  <thead>\n",
              "    <tr style=\"text-align: right;\">\n",
              "      <th></th>\n",
              "      <th>Latitude</th>\n",
              "      <th>Longitude</th>\n",
              "      <th>Confirmed</th>\n",
              "      <th>Recovered</th>\n",
              "      <th>Deaths</th>\n",
              "    </tr>\n",
              "  </thead>\n",
              "  <tbody>\n",
              "    <tr>\n",
              "      <th>count</th>\n",
              "      <td>182.000000</td>\n",
              "      <td>182.000000</td>\n",
              "      <td>182.000000</td>\n",
              "      <td>182.000000</td>\n",
              "      <td>182.000000</td>\n",
              "    </tr>\n",
              "    <tr>\n",
              "      <th>mean</th>\n",
              "      <td>19.653279</td>\n",
              "      <td>16.201479</td>\n",
              "      <td>7390.373626</td>\n",
              "      <td>1519.313187</td>\n",
              "      <td>409.697802</td>\n",
              "    </tr>\n",
              "    <tr>\n",
              "      <th>std</th>\n",
              "      <td>23.481940</td>\n",
              "      <td>58.597646</td>\n",
              "      <td>33072.766934</td>\n",
              "      <td>7422.352876</td>\n",
              "      <td>1941.352551</td>\n",
              "    </tr>\n",
              "    <tr>\n",
              "      <th>min</th>\n",
              "      <td>-40.900600</td>\n",
              "      <td>-116.576500</td>\n",
              "      <td>1.000000</td>\n",
              "      <td>0.000000</td>\n",
              "      <td>0.000000</td>\n",
              "    </tr>\n",
              "    <tr>\n",
              "      <th>25%</th>\n",
              "      <td>4.643279</td>\n",
              "      <td>-9.629825</td>\n",
              "      <td>24.000000</td>\n",
              "      <td>2.000000</td>\n",
              "      <td>1.000000</td>\n",
              "    </tr>\n",
              "    <tr>\n",
              "      <th>50%</th>\n",
              "      <td>17.858694</td>\n",
              "      <td>18.938650</td>\n",
              "      <td>340.000000</td>\n",
              "      <td>30.500000</td>\n",
              "      <td>5.500000</td>\n",
              "    </tr>\n",
              "    <tr>\n",
              "      <th>75%</th>\n",
              "      <td>40.124600</td>\n",
              "      <td>43.598693</td>\n",
              "      <td>1812.750000</td>\n",
              "      <td>130.750000</td>\n",
              "      <td>40.750000</td>\n",
              "    </tr>\n",
              "    <tr>\n",
              "      <th>max</th>\n",
              "      <td>64.963100</td>\n",
              "      <td>178.065000</td>\n",
              "      <td>366614.000000</td>\n",
              "      <td>77310.000000</td>\n",
              "      <td>16523.000000</td>\n",
              "    </tr>\n",
              "  </tbody>\n",
              "</table>\n",
              "</div>"
            ],
            "text/plain": [
              "         Latitude   Longitude      Confirmed     Recovered        Deaths\n",
              "count  182.000000  182.000000     182.000000    182.000000    182.000000\n",
              "mean    19.653279   16.201479    7390.373626   1519.313187    409.697802\n",
              "std     23.481940   58.597646   33072.766934   7422.352876   1941.352551\n",
              "min    -40.900600 -116.576500       1.000000      0.000000      0.000000\n",
              "25%      4.643279   -9.629825      24.000000      2.000000      1.000000\n",
              "50%     17.858694   18.938650     340.000000     30.500000      5.500000\n",
              "75%     40.124600   43.598693    1812.750000    130.750000     40.750000\n",
              "max     64.963100  178.065000  366614.000000  77310.000000  16523.000000"
            ]
          },
          "metadata": {
            "tags": []
          },
          "execution_count": 18
        }
      ]
    },
    {
      "cell_type": "code",
      "metadata": {
        "id": "ngHxrpQD9Qma",
        "colab_type": "code",
        "outputId": "1c28afc8-82f9-4329-cea6-77f2af5f2c02",
        "colab": {
          "base_uri": "https://localhost:8080/",
          "height": 867
        }
      },
      "source": [
        "# analyse graphique bidimentionnelle\n",
        "print(\"Analyse graphique bidimentionnelle\")\n",
        "scatter_matrix(copy,figsize=(6,6))"
      ],
      "execution_count": 0,
      "outputs": [
        {
          "output_type": "stream",
          "text": [
            "Analyse graphique bidimentionnelle\n"
          ],
          "name": "stdout"
        },
        {
          "output_type": "execute_result",
          "data": {
            "text/plain": [
              "array([[<matplotlib.axes._subplots.AxesSubplot object at 0x7f4778258b38>,\n",
              "        <matplotlib.axes._subplots.AxesSubplot object at 0x7f4778237278>,\n",
              "        <matplotlib.axes._subplots.AxesSubplot object at 0x7f47781ec4e0>,\n",
              "        <matplotlib.axes._subplots.AxesSubplot object at 0x7f47781a0748>,\n",
              "        <matplotlib.axes._subplots.AxesSubplot object at 0x7f47781519b0>],\n",
              "       [<matplotlib.axes._subplots.AxesSubplot object at 0x7f4778106c18>,\n",
              "        <matplotlib.axes._subplots.AxesSubplot object at 0x7f47780b9e80>,\n",
              "        <matplotlib.axes._subplots.AxesSubplot object at 0x7f47780790f0>,\n",
              "        <matplotlib.axes._subplots.AxesSubplot object at 0x7f4778079160>,\n",
              "        <matplotlib.axes._subplots.AxesSubplot object at 0x7f477805f5f8>],\n",
              "       [<matplotlib.axes._subplots.AxesSubplot object at 0x7f4778011860>,\n",
              "        <matplotlib.axes._subplots.AxesSubplot object at 0x7f4777fc3ac8>,\n",
              "        <matplotlib.axes._subplots.AxesSubplot object at 0x7f4777ff8d30>,\n",
              "        <matplotlib.axes._subplots.AxesSubplot object at 0x7f4777fadf98>,\n",
              "        <matplotlib.axes._subplots.AxesSubplot object at 0x7f4777f6d240>],\n",
              "       [<matplotlib.axes._subplots.AxesSubplot object at 0x7f4777f1f4a8>,\n",
              "        <matplotlib.axes._subplots.AxesSubplot object at 0x7f4777ed3710>,\n",
              "        <matplotlib.axes._subplots.AxesSubplot object at 0x7f4777e86978>,\n",
              "        <matplotlib.axes._subplots.AxesSubplot object at 0x7f4777eb8be0>,\n",
              "        <matplotlib.axes._subplots.AxesSubplot object at 0x7f4777e6ee48>],\n",
              "       [<matplotlib.axes._subplots.AxesSubplot object at 0x7f4777e2e0f0>,\n",
              "        <matplotlib.axes._subplots.AxesSubplot object at 0x7f4777de0358>,\n",
              "        <matplotlib.axes._subplots.AxesSubplot object at 0x7f4777d935c0>,\n",
              "        <matplotlib.axes._subplots.AxesSubplot object at 0x7f4777d49828>,\n",
              "        <matplotlib.axes._subplots.AxesSubplot object at 0x7f4777cfaa90>]],\n",
              "      dtype=object)"
            ]
          },
          "metadata": {
            "tags": []
          },
          "execution_count": 19
        },
        {
          "output_type": "display_data",
          "data": {
            "image/png": "[encoded data removed]",
            "text/plain": [
              "<Figure size 432x432 with 25 Axes>"
            ]
          },
          "metadata": {
            "tags": []
          }
        }
      ]
    },
    {
      "cell_type": "code",
      "metadata": {
        "id": "_Cv_-hVw9VAI",
        "colab_type": "code",
        "outputId": "913413e4-5f49-403f-cd53-392fca14da30",
        "colab": {
          "base_uri": "https://localhost:8080/",
          "height": 221
        }
      },
      "source": [
        "print('matrice de correlation')\n",
        "copy.corr()"
      ],
      "execution_count": 0,
      "outputs": [
        {
          "output_type": "stream",
          "text": [
            "matrice de correlation\n"
          ],
          "name": "stdout"
        },
        {
          "output_type": "execute_result",
          "data": {
            "text/html": [
              "<div>\n",
              "<style scoped>\n",
              "    .dataframe tbody tr th:only-of-type {\n",
              "        vertical-align: middle;\n",
              "    }\n",
              "\n",
              "    .dataframe tbody tr th {\n",
              "        vertical-align: top;\n",
              "    }\n",
              "\n",
              "    .dataframe thead th {\n",
              "        text-align: right;\n",
              "    }\n",
              "</style>\n",
              "<table border=\"1\" class=\"dataframe\">\n",
              "  <thead>\n",
              "    <tr style=\"text-align: right;\">\n",
              "      <th></th>\n",
              "      <th>Latitude</th>\n",
              "      <th>Longitude</th>\n",
              "      <th>Confirmed</th>\n",
              "      <th>Recovered</th>\n",
              "      <th>Deaths</th>\n",
              "    </tr>\n",
              "  </thead>\n",
              "  <tbody>\n",
              "    <tr>\n",
              "      <th>Latitude</th>\n",
              "      <td>1.000000</td>\n",
              "      <td>0.030438</td>\n",
              "      <td>0.131521</td>\n",
              "      <td>0.133318</td>\n",
              "      <td>0.112082</td>\n",
              "    </tr>\n",
              "    <tr>\n",
              "      <th>Longitude</th>\n",
              "      <td>0.030438</td>\n",
              "      <td>1.000000</td>\n",
              "      <td>-0.119353</td>\n",
              "      <td>0.063317</td>\n",
              "      <td>-0.107059</td>\n",
              "    </tr>\n",
              "    <tr>\n",
              "      <th>Confirmed</th>\n",
              "      <td>0.131521</td>\n",
              "      <td>-0.119353</td>\n",
              "      <td>1.000000</td>\n",
              "      <td>0.602685</td>\n",
              "      <td>0.809719</td>\n",
              "    </tr>\n",
              "    <tr>\n",
              "      <th>Recovered</th>\n",
              "      <td>0.133318</td>\n",
              "      <td>0.063317</td>\n",
              "      <td>0.602685</td>\n",
              "      <td>1.000000</td>\n",
              "      <td>0.609879</td>\n",
              "    </tr>\n",
              "    <tr>\n",
              "      <th>Deaths</th>\n",
              "      <td>0.112082</td>\n",
              "      <td>-0.107059</td>\n",
              "      <td>0.809719</td>\n",
              "      <td>0.609879</td>\n",
              "      <td>1.000000</td>\n",
              "    </tr>\n",
              "  </tbody>\n",
              "</table>\n",
              "</div>"
            ],
            "text/plain": [
              "           Latitude  Longitude  Confirmed  Recovered    Deaths\n",
              "Latitude   1.000000   0.030438   0.131521   0.133318  0.112082\n",
              "Longitude  0.030438   1.000000  -0.119353   0.063317 -0.107059\n",
              "Confirmed  0.131521  -0.119353   1.000000   0.602685  0.809719\n",
              "Recovered  0.133318   0.063317   0.602685   1.000000  0.609879\n",
              "Deaths     0.112082  -0.107059   0.809719   0.609879  1.000000"
            ]
          },
          "metadata": {
            "tags": []
          },
          "execution_count": 20
        }
      ]
    },
    {
      "cell_type": "code",
      "metadata": {
        "id": "1TqgVQZy9gxX",
        "colab_type": "code",
        "outputId": "ee011b18-70ad-4a18-b664-3c417625fbc7",
        "colab": {
          "base_uri": "https://localhost:8080/",
          "height": 286
        }
      },
      "source": [
        "sns.heatmap(copy.corr(), \n",
        "            xticklabels=copy.corr().columns.values,\n",
        "            yticklabels=copy.corr().columns.values)"
      ],
      "execution_count": 0,
      "outputs": [
        {
          "output_type": "execute_result",
          "data": {
            "text/plain": [
              "<matplotlib.axes._subplots.AxesSubplot at 0x7f4775493748>"
            ]
          },
          "metadata": {
            "tags": []
          },
          "execution_count": 21
        },
        {
          "output_type": "display_data",
          "data": {
            "image/png": "[encoded data removed]",
            "text/plain": [
              "<Figure size 432x288 with 2 Axes>"
            ]
          },
          "metadata": {
            "tags": []
          }
        }
      ]
    },
    {
      "cell_type": "code",
      "metadata": {
        "id": "We4ozS0J9p26",
        "colab_type": "code",
        "outputId": "8f4af5b9-1339-4af7-b638-a8455f2e4dfe",
        "colab": {
          "base_uri": "https://localhost:8080/",
          "height": 221
        }
      },
      "source": [
        "print('matrice de covariance')\n",
        "copy.cov()"
      ],
      "execution_count": 0,
      "outputs": [
        {
          "output_type": "stream",
          "text": [
            "matrice de covariance\n"
          ],
          "name": "stdout"
        },
        {
          "output_type": "execute_result",
          "data": {
            "text/html": [
              "<div>\n",
              "<style scoped>\n",
              "    .dataframe tbody tr th:only-of-type {\n",
              "        vertical-align: middle;\n",
              "    }\n",
              "\n",
              "    .dataframe tbody tr th {\n",
              "        vertical-align: top;\n",
              "    }\n",
              "\n",
              "    .dataframe thead th {\n",
              "        text-align: right;\n",
              "    }\n",
              "</style>\n",
              "<table border=\"1\" class=\"dataframe\">\n",
              "  <thead>\n",
              "    <tr style=\"text-align: right;\">\n",
              "      <th></th>\n",
              "      <th>Latitude</th>\n",
              "      <th>Longitude</th>\n",
              "      <th>Confirmed</th>\n",
              "      <th>Recovered</th>\n",
              "      <th>Deaths</th>\n",
              "    </tr>\n",
              "  </thead>\n",
              "  <tbody>\n",
              "    <tr>\n",
              "      <th>Latitude</th>\n",
              "      <td>551.401497</td>\n",
              "      <td>41.882606</td>\n",
              "      <td>1.021412e+05</td>\n",
              "      <td>2.323624e+04</td>\n",
              "      <td>5.109459e+03</td>\n",
              "    </tr>\n",
              "    <tr>\n",
              "      <th>Longitude</th>\n",
              "      <td>41.882606</td>\n",
              "      <td>3433.684159</td>\n",
              "      <td>-2.313049e+05</td>\n",
              "      <td>2.753850e+04</td>\n",
              "      <td>-1.217888e+04</td>\n",
              "    </tr>\n",
              "    <tr>\n",
              "      <th>Confirmed</th>\n",
              "      <td>102141.150850</td>\n",
              "      <td>-231304.909018</td>\n",
              "      <td>1.093808e+09</td>\n",
              "      <td>1.479457e+08</td>\n",
              "      <td>5.198873e+07</td>\n",
              "    </tr>\n",
              "    <tr>\n",
              "      <th>Recovered</th>\n",
              "      <td>23236.244292</td>\n",
              "      <td>27538.499226</td>\n",
              "      <td>1.479457e+08</td>\n",
              "      <td>5.509132e+07</td>\n",
              "      <td>8.787990e+06</td>\n",
              "    </tr>\n",
              "    <tr>\n",
              "      <th>Deaths</th>\n",
              "      <td>5109.459359</td>\n",
              "      <td>-12178.880742</td>\n",
              "      <td>5.198873e+07</td>\n",
              "      <td>8.787990e+06</td>\n",
              "      <td>3.768850e+06</td>\n",
              "    </tr>\n",
              "  </tbody>\n",
              "</table>\n",
              "</div>"
            ],
            "text/plain": [
              "                Latitude      Longitude  ...     Recovered        Deaths\n",
              "Latitude      551.401497      41.882606  ...  2.323624e+04  5.109459e+03\n",
              "Longitude      41.882606    3433.684159  ...  2.753850e+04 -1.217888e+04\n",
              "Confirmed  102141.150850 -231304.909018  ...  1.479457e+08  5.198873e+07\n",
              "Recovered   23236.244292   27538.499226  ...  5.509132e+07  8.787990e+06\n",
              "Deaths       5109.459359  -12178.880742  ...  8.787990e+06  3.768850e+06\n",
              "\n",
              "[5 rows x 5 columns]"
            ]
          },
          "metadata": {
            "tags": []
          },
          "execution_count": 22
        }
      ]
    },
    {
      "cell_type": "code",
      "metadata": {
        "id": "GGO-kSOz_D3y",
        "colab_type": "code",
        "outputId": "4afb2599-a005-4244-b3a0-1e122c7e391d",
        "colab": {
          "base_uri": "https://localhost:8080/",
          "height": 255
        }
      },
      "source": [
        "# selection des variables quantitatives\n",
        "x = copy.drop(['Country'],axis=1)\n",
        "print(x)"
      ],
      "execution_count": 0,
      "outputs": [
        {
          "output_type": "stream",
          "text": [
            "        Latitude   Longitude  Confirmed  Recovered   Deaths\n",
            "53995  34.223334  -82.461707   366614.0    19581.0  10783.0\n",
            "56534  53.933300 -116.576500    16563.0     3256.0    339.0\n",
            "56535  18.220600  -63.068600    52279.0      287.0   5385.0\n",
            "56536  31.825700  117.226400    82665.0    77310.0   3335.0\n",
            "56537  12.521100  -69.968300    18926.0      258.0   1874.0\n",
            "...          ...         ...        ...        ...      ...\n",
            "56798  14.058324  108.277199      245.0       95.0      0.0\n",
            "56799  31.952200   35.233200      254.0       24.0      1.0\n",
            "56800  24.215500  -12.885800        4.0        0.0      0.0\n",
            "56801 -13.133897   27.849332       39.0        5.0      1.0\n",
            "56802 -19.015438   29.154857       10.0        0.0      1.0\n",
            "\n",
            "[182 rows x 5 columns]\n"
          ],
          "name": "stdout"
        }
      ]
    },
    {
      "cell_type": "code",
      "metadata": {
        "id": "JxdUWZ59P3nT",
        "colab_type": "code",
        "colab": {}
      },
      "source": [
        ""
      ],
      "execution_count": 0,
      "outputs": []
    },
    {
      "cell_type": "code",
      "metadata": {
        "id": "mrj-sKkI-3jy",
        "colab_type": "code",
        "colab": {}
      },
      "source": [
        "#instanciation\n",
        "sc = StandardScaler()\n",
        "#transformation – centrage-réduction\n",
        "Z = sc.fit_transform(x)"
      ],
      "execution_count": 0,
      "outputs": []
    },
    {
      "cell_type": "code",
      "metadata": {
        "id": "1ndLqySC_ADR",
        "colab_type": "code",
        "outputId": "1cd2383d-8121-43f3-ed97-adde808fbae1",
        "colab": {
          "base_uri": "https://localhost:8080/",
          "height": 68
        }
      },
      "source": [
        "#Vérifions les propriétés du nouvel ensemble de données. \n",
        "#Les moyennes sont maintenant nulles\n",
        "print(np.mean(Z,axis=0))\n",
        "#Les écart-type sont unitaires.\n",
        "print(np.std(Z,axis=0,ddof=0))"
      ],
      "execution_count": 0,
      "outputs": [
        {
          "output_type": "stream",
          "text": [
            "[-2.12284403e-16  1.95204048e-17 -1.95204048e-17  9.76020241e-18\n",
            "  0.00000000e+00]\n",
            "[1. 1. 1. 1. 1.]\n"
          ],
          "name": "stdout"
        }
      ]
    },
    {
      "cell_type": "code",
      "metadata": {
        "id": "vH8fdBYm_zAP",
        "colab_type": "code",
        "outputId": "817410cb-1ed9-459d-960a-ce62bbd709ad",
        "colab": {
          "base_uri": "https://localhost:8080/",
          "height": 51
        }
      },
      "source": [
        "#classe pour l'ACP\n",
        "from sklearn.decomposition import PCA\n",
        "#instanciation\n",
        "acp = PCA(svd_solver='full')\n",
        "#affichage des paramètres\n",
        "print(acp)"
      ],
      "execution_count": 0,
      "outputs": [
        {
          "output_type": "stream",
          "text": [
            "PCA(copy=True, iterated_power='auto', n_components=None, random_state=None,\n",
            "    svd_solver='full', tol=0.0, whiten=False)\n"
          ],
          "name": "stdout"
        }
      ]
    },
    {
      "cell_type": "code",
      "metadata": {
        "id": "Fc5tGb8_BPHW",
        "colab_type": "code",
        "outputId": "e818371d-9766-4373-a6e8-972fa626437c",
        "colab": {
          "base_uri": "https://localhost:8080/",
          "height": 34
        }
      },
      "source": [
        "#calculs\n",
        "coord = acp.fit_transform(Z)\n",
        "#nombre de composantes calculées\n",
        "print(acp.n_components_) # 5"
      ],
      "execution_count": 0,
      "outputs": [
        {
          "output_type": "stream",
          "text": [
            "5\n"
          ],
          "name": "stdout"
        }
      ]
    },
    {
      "cell_type": "code",
      "metadata": {
        "id": "6p2Bt9fpRdlI",
        "colab_type": "code",
        "colab": {}
      },
      "source": [
        "n=x.shape[0]\n",
        "p=x.shape[1]"
      ],
      "execution_count": 0,
      "outputs": []
    },
    {
      "cell_type": "code",
      "metadata": {
        "id": "K1y9zVoUCoGV",
        "colab_type": "code",
        "outputId": "034c4443-21c6-4db1-8959-96a1d17a90df",
        "colab": {
          "base_uri": "https://localhost:8080/",
          "height": 34
        }
      },
      "source": [
        "#valeur Propre\n",
        "eig_val = (n-1)/n*acp.explained_variance_\n",
        "print(eig_val)"
      ],
      "execution_count": 0,
      "outputs": [
        {
          "output_type": "stream",
          "text": [
            "[2.39352085 1.05461844 0.9393423  0.42264097 0.18987743]\n"
          ],
          "name": "stdout"
        }
      ]
    },
    {
      "cell_type": "code",
      "metadata": {
        "id": "H12W_Y0tRGLi",
        "colab_type": "code",
        "outputId": "4ba76a32-5489-4a34-aec6-ff974aabf907",
        "colab": {
          "base_uri": "https://localhost:8080/",
          "height": 136
        }
      },
      "source": [
        "tot = sum(eig_val)\n",
        "var_exp = [(i / tot)*100 for i in sorted(eig_val, reverse=True)]\n",
        "cum_var_exp = np.cumsum(var_exp)\n",
        "print()\n",
        "print(pd.DataFrame({'Val.Propre':eig_val,'var_exp':var_exp,'cum_var_exp':cum_var_exp}))"
      ],
      "execution_count": 0,
      "outputs": [
        {
          "output_type": "stream",
          "text": [
            "\n",
            "   Val.Propre    var_exp  cum_var_exp\n",
            "0    2.393521  47.870417    47.870417\n",
            "1    1.054618  21.092369    68.962786\n",
            "2    0.939342  18.786846    87.749632\n",
            "3    0.422641   8.452819    96.202451\n",
            "4    0.189877   3.797549   100.000000\n"
          ],
          "name": "stdout"
        }
      ]
    },
    {
      "cell_type": "code",
      "metadata": {
        "id": "ExOXFBe0RGU0",
        "colab_type": "code",
        "colab": {}
      },
      "source": [
        ""
      ],
      "execution_count": 0,
      "outputs": []
    },
    {
      "cell_type": "code",
      "metadata": {
        "id": "L8_G5ZjTDCVF",
        "colab_type": "code",
        "outputId": "c3520d03-9165-40b5-f21c-78bf088413c6",
        "colab": {
          "base_uri": "https://localhost:8080/",
          "height": 319
        }
      },
      "source": [
        "#positionnement des individus dans le premier plan\n",
        "fig, axes = plt.subplots()\n",
        "axes.set_xlim(0,10) #même limites en abscisse\n",
        "axes.set_ylim(0,10) #et en ordonnée\n",
        "#placement des étiquettes des observations\n",
        "for i in range(copy.shape[0]):\n",
        " plt.annotate(copy.Country.values[i],xy=(coord[i,0],coord[i,1]))\n",
        "#ajouter les axes\n",
        "plt.plot(color='black',linestyle='-',linewidth=1)\n",
        "plt.plot(color='black',linestyle='-',linewidth=1)\n",
        "plt.title('Représentation des individus dans le premier plan factoriel')\n",
        "#affichage\n",
        "plt.show()\n"
      ],
      "execution_count": 0,
      "outputs": [
        {
          "output_type": "display_data",
          "data": {
            "image/png": "[encoded data removed]",
            "text/plain": [
              "<Figure size 432x288 with 1 Axes>"
            ]
          },
          "metadata": {
            "tags": []
          }
        }
      ]
    },
    {
      "cell_type": "code",
      "metadata": {
        "id": "-4Kzjv9EFV7j",
        "colab_type": "code",
        "outputId": "c1e8f066-c6a1-478e-d212-6c12c509ae9a",
        "colab": {
          "base_uri": "https://localhost:8080/",
          "height": 265
        }
      },
      "source": [
        "plt.scatter(x=coord[:,0],y=coord[:,1] )\n",
        "plt.show()"
      ],
      "execution_count": 0,
      "outputs": [
        {
          "output_type": "display_data",
          "data": {
            "image/png": "[encoded data removed]",
            "text/plain": [
              "<Figure size 432x288 with 1 Axes>"
            ]
          },
          "metadata": {
            "tags": []
          }
        }
      ]
    },
    {
      "cell_type": "code",
      "metadata": {
        "id": "ywNZraK3obVS",
        "colab_type": "code",
        "outputId": "556223ce-2065-4def-c2ad-15da4012eec8",
        "colab": {
          "base_uri": "https://localhost:8080/",
          "height": 255
        }
      },
      "source": [
        "#qualité de représentation des individus - COS2\n",
        "cos2 = coord ** 2 / np.sum(Z**2,axis=0)\n",
        "print(pd.DataFrame({'Country':copy.Country,'COS2_1':cos2[:,0],'COS2_2':cos2[:,1]}))"
      ],
      "execution_count": 0,
      "outputs": [
        {
          "output_type": "stream",
          "text": [
            "                  Country    COS2_1    COS2_2\n",
            "53995                  US  0.674757  0.026015\n",
            "56534              Canada  0.002281  0.007756\n",
            "56535      United Kingdom  0.029484  0.013350\n",
            "56536               China  0.315199  0.053990\n",
            "56537         Netherlands  0.002101  0.012770\n",
            "...                   ...       ...       ...\n",
            "56798             Vietnam  0.001365  0.008197\n",
            "56799  West Bank and Gaza  0.000498  0.001578\n",
            "56800      Western Sahara  0.000498  0.000569\n",
            "56801              Zambia  0.001912  0.001439\n",
            "56802            Zimbabwe  0.002184  0.002082\n",
            "\n",
            "[182 rows x 3 columns]\n"
          ],
          "name": "stdout"
        }
      ]
    },
    {
      "cell_type": "code",
      "metadata": {
        "id": "BLBCIo2FSx-e",
        "colab_type": "code",
        "outputId": "ce19ec1b-76b5-4cc8-fdd6-4b1b2169e85c",
        "colab": {
          "base_uri": "https://localhost:8080/",
          "height": 255
        }
      },
      "source": [
        "#contributions aux axes\n",
        "ctr =  coord ** 2 / (n*eig_val)\n",
        "print(pd.DataFrame({'Country':copy.Country,'CTR_1':ctr[:,0]*100,'CTR_2':ctr[:,1]*100}))"
      ],
      "execution_count": 0,
      "outputs": [
        {
          "output_type": "stream",
          "text": [
            "                  Country      CTR_1     CTR_2\n",
            "53995                  US  28.190969  2.466783\n",
            "56534              Canada   0.095279  0.735477\n",
            "56535      United Kingdom   1.231806  1.265822\n",
            "56536               China  13.168848  5.119417\n",
            "56537         Netherlands   0.087793  1.210894\n",
            "...                   ...        ...       ...\n",
            "56798             Vietnam   0.057009  0.777213\n",
            "56799  West Bank and Gaza   0.020790  0.149631\n",
            "56800      Western Sahara   0.020801  0.053953\n",
            "56801              Zambia   0.079881  0.136422\n",
            "56802            Zimbabwe   0.091243  0.197436\n",
            "\n",
            "[182 rows x 3 columns]\n"
          ],
          "name": "stdout"
        }
      ]
    },
    {
      "cell_type": "markdown",
      "metadata": {
        "id": "88SVIjZ5q08u",
        "colab_type": "text"
      },
      "source": [
        "#Analyse dual"
      ]
    },
    {
      "cell_type": "code",
      "metadata": {
        "id": "I_llC4nMTwPg",
        "colab_type": "code",
        "outputId": "2b56fc6d-e836-4741-8ab4-ddb7e133671f",
        "colab": {
          "base_uri": "https://localhost:8080/",
          "height": 102
        }
      },
      "source": [
        "#le champ components_ de l'objet ACP\n",
        "#Les vecteurs propres\n",
        "print(acp.components_)"
      ],
      "execution_count": 0,
      "outputs": [
        {
          "output_type": "stream",
          "text": [
            "[[ 0.15189212 -0.06872011  0.5901873   0.52495288  0.59017773]\n",
            " [ 0.48870115  0.84576581 -0.09138916  0.17202603 -0.08891825]\n",
            " [-0.85874135  0.47383118  0.04503278  0.1735711   0.07676222]\n",
            " [-0.01781369 -0.23525936 -0.3810948   0.81519946 -0.36681371]\n",
            " [-0.01859952  0.00973636  0.70431937  0.01242714 -0.70946392]]\n"
          ],
          "name": "stdout"
        }
      ]
    },
    {
      "cell_type": "code",
      "metadata": {
        "id": "yoV7zECZq7Dz",
        "colab_type": "code",
        "colab": {}
      },
      "source": [
        "#racine carrée des valeurs propres\n",
        "sqrt_eigval = np.sqrt(eig_val)"
      ],
      "execution_count": 0,
      "outputs": []
    },
    {
      "cell_type": "code",
      "metadata": {
        "id": "5sn8oncuq_hk",
        "colab_type": "code",
        "outputId": "5c840a06-ed34-4f01-d5c0-bab29878ca44",
        "colab": {
          "base_uri": "https://localhost:8080/",
          "height": 102
        }
      },
      "source": [
        "#corrélation des variables avec les axes\n",
        "p= x.shape[1]\n",
        "corvar = np.zeros((p,p))\n",
        "for k in range(p):\n",
        " corvar[:,k] = acp.components_[k,:] * sqrt_eigval[k]\n",
        "\n",
        "#afficher la matrice des corrélations variables x facteurs\n",
        "print(corvar)\n"
      ],
      "execution_count": 0,
      "outputs": [
        {
          "output_type": "stream",
          "text": [
            "[[ 0.23499242  0.50186977 -0.83228931 -0.01158083 -0.00810473]\n",
            " [-0.10631694  0.86855596  0.45923563 -0.1529441   0.00424261]\n",
            " [ 0.91307924 -0.09385175  0.04364562 -0.24775295  0.30690665]\n",
            " [ 0.81215502  0.17666147  0.16822454  0.52996804  0.00541512]\n",
            " [ 0.91306443 -0.09131426  0.07439769 -0.23846869 -0.30914839]]\n"
          ],
          "name": "stdout"
        }
      ]
    },
    {
      "cell_type": "code",
      "metadata": {
        "id": "Yc9jOtTvrDiN",
        "colab_type": "code",
        "outputId": "852cdb52-2377-4fd4-e5b4-a2027ee47cf6",
        "colab": {
          "base_uri": "https://localhost:8080/",
          "height": 119
        }
      },
      "source": [
        "#on affiche pour les deux premiers axes\n",
        "print(pd.DataFrame({'columns':x.columns,'COR_1':corvar[:,0],'COR_2':corvar[:,1]}))"
      ],
      "execution_count": 0,
      "outputs": [
        {
          "output_type": "stream",
          "text": [
            "     columns     COR_1     COR_2\n",
            "0   Latitude  0.234992  0.501870\n",
            "1  Longitude -0.106317  0.868556\n",
            "2  Confirmed  0.913079 -0.093852\n",
            "3  Recovered  0.812155  0.176661\n",
            "4     Deaths  0.913064 -0.091314\n"
          ],
          "name": "stdout"
        }
      ]
    },
    {
      "cell_type": "code",
      "metadata": {
        "id": "-oy6yVEErYEX",
        "colab_type": "code",
        "outputId": "f9305e1d-43c1-4db2-f8f0-2f0bf0b5b1a6",
        "colab": {
          "base_uri": "https://localhost:8080/",
          "height": 487
        }
      },
      "source": [
        "#cercle des corrélations\n",
        "fig, axes = plt.subplots(figsize=(8,8))\n",
        "axes.set_xlim(-1,1)\n",
        "axes.set_ylim(-1,1)\n",
        "#affichage des étiquettes (noms des variables)\n",
        "for j in range(p):\n",
        " plt.annotate(x.columns[j],(corvar[j,0],corvar[j,1]))\n",
        "\n",
        "#ajouter les axes\n",
        "plt.plot([-1,1],[0,0],color='silver',linestyle='-',linewidth=1)\n",
        "plt.plot([0,0],[-1,1],color='silver',linestyle='-',linewidth=1)\n",
        "\n",
        "#ajouter un cercle\n",
        "cercle = plt.Circle((0,0),1,color='blue',fill=False)\n",
        "axes.add_artist(cercle)\n",
        "#affichage\n",
        "plt.show()\n"
      ],
      "execution_count": 0,
      "outputs": [
        {
          "output_type": "display_data",
          "data": {
            "image/png": "[encoded data removed]",
            "text/plain": [
              "<Figure size 576x576 with 1 Axes>"
            ]
          },
          "metadata": {
            "tags": []
          }
        }
      ]
    },
    {
      "cell_type": "code",
      "metadata": {
        "id": "Q9k7V84Gr9cb",
        "colab_type": "code",
        "outputId": "6f606b74-b4a5-4f6c-d739-42f97be1c966",
        "colab": {
          "base_uri": "https://localhost:8080/",
          "height": 119
        }
      },
      "source": [
        "#cosinus carré des variables\n",
        "cos2var = corvar**2\n",
        "print(pd.DataFrame({'columns':x.columns,'COS2_1':cos2var[:,0],'COS2_2':cos2var[:,1]}))"
      ],
      "execution_count": 0,
      "outputs": [
        {
          "output_type": "stream",
          "text": [
            "     columns    COS2_1    COS2_2\n",
            "0   Latitude  0.055221  0.251873\n",
            "1  Longitude  0.011303  0.754389\n",
            "2  Confirmed  0.833714  0.008808\n",
            "3  Recovered  0.659596  0.031209\n",
            "4     Deaths  0.833687  0.008338\n"
          ],
          "name": "stdout"
        }
      ]
    },
    {
      "cell_type": "code",
      "metadata": {
        "id": "Z8cz7WPVsQcV",
        "colab_type": "code",
        "outputId": "f4fc991c-31c4-4546-a402-9efc6fa30304",
        "colab": {
          "base_uri": "https://localhost:8080/",
          "height": 119
        }
      },
      "source": [
        "#contributions\n",
        "ctrvar = cos2var\n",
        "for k in range(p):\n",
        " ctrvar[:,k] = ctrvar[:,k]/eig_val[k]\n",
        "#on n'affiche que pour les deux premiers axes\n",
        "print(pd.DataFrame({'columns':x.columns,'CTR_1':ctrvar[:,0],'CTR_2':ctrvar[:,1]}))"
      ],
      "execution_count": 0,
      "outputs": [
        {
          "output_type": "stream",
          "text": [
            "     columns     CTR_1     CTR_2\n",
            "0   Latitude  0.023071  0.238829\n",
            "1  Longitude  0.004722  0.715320\n",
            "2  Confirmed  0.348321  0.008352\n",
            "3  Recovered  0.275576  0.029593\n",
            "4     Deaths  0.348310  0.007906\n"
          ],
          "name": "stdout"
        }
      ]
    },
    {
      "cell_type": "code",
      "metadata": {
        "id": "pjN-f3gFsS81",
        "colab_type": "code",
        "colab": {}
      },
      "source": [
        ""
      ],
      "execution_count": 0,
      "outputs": []
    },
    {
      "cell_type": "markdown",
      "metadata": {
        "id": "juGXCdhBzJcT",
        "colab_type": "text"
      },
      "source": [
        "#Analyse factorielle des correspondances AFC"
      ]
    },
    {
      "cell_type": "code",
      "metadata": {
        "id": "bxjMjsGfzMbu",
        "colab_type": "code",
        "outputId": "d99f85b4-f0ae-4ad4-e7b9-8050e97f0abb",
        "colab": {
          "base_uri": "https://localhost:8080/",
          "height": 326
        }
      },
      "source": [
        "!pip install fanalysis"
      ],
      "execution_count": 0,
      "outputs": [
        {
          "output_type": "stream",
          "text": [
            "Collecting fanalysis\n",
            "\u001b[?25l  Downloading https://files.pythonhosted.org/packages/97/b9/0abf11b0e44fdb450c745e4c9a1e4ab764d5ad8882011161c3ddf290a789/fanalysis-0.0.1-py3-none-any.whl (56kB)\n",
            "\u001b[K     |████████████████████████████████| 61kB 2.0MB/s \n",
            "\u001b[?25hRequirement already satisfied: pandas>=0.19.0 in /usr/local/lib/python3.6/dist-packages (from fanalysis) (1.0.3)\n",
            "Requirement already satisfied: numpy>=1.11.0 in /usr/local/lib/python3.6/dist-packages (from fanalysis) (1.18.2)\n",
            "Requirement already satisfied: matplotlib>=2.0.0 in /usr/local/lib/python3.6/dist-packages (from fanalysis) (3.2.1)\n",
            "Requirement already satisfied: scikit-learn>=0.18.0 in /usr/local/lib/python3.6/dist-packages (from fanalysis) (0.22.2.post1)\n",
            "Requirement already satisfied: python-dateutil>=2.6.1 in /usr/local/lib/python3.6/dist-packages (from pandas>=0.19.0->fanalysis) (2.8.1)\n",
            "Requirement already satisfied: pytz>=2017.2 in /usr/local/lib/python3.6/dist-packages (from pandas>=0.19.0->fanalysis) (2018.9)\n",
            "Requirement already satisfied: kiwisolver>=1.0.1 in /usr/local/lib/python3.6/dist-packages (from matplotlib>=2.0.0->fanalysis) (1.2.0)\n",
            "Requirement already satisfied: cycler>=0.10 in /usr/local/lib/python3.6/dist-packages (from matplotlib>=2.0.0->fanalysis) (0.10.0)\n",
            "Requirement already satisfied: pyparsing!=2.0.4,!=2.1.2,!=2.1.6,>=2.0.1 in /usr/local/lib/python3.6/dist-packages (from matplotlib>=2.0.0->fanalysis) (2.4.6)\n",
            "Requirement already satisfied: joblib>=0.11 in /usr/local/lib/python3.6/dist-packages (from scikit-learn>=0.18.0->fanalysis) (0.14.1)\n",
            "Requirement already satisfied: scipy>=0.17.0 in /usr/local/lib/python3.6/dist-packages (from scikit-learn>=0.18.0->fanalysis) (1.4.1)\n",
            "Requirement already satisfied: six>=1.5 in /usr/local/lib/python3.6/dist-packages (from python-dateutil>=2.6.1->pandas>=0.19.0->fanalysis) (1.12.0)\n",
            "Installing collected packages: fanalysis\n",
            "Successfully installed fanalysis-0.0.1\n"
          ],
          "name": "stdout"
        }
      ]
    },
    {
      "cell_type": "code",
      "metadata": {
        "id": "au6uskcg00_2",
        "colab_type": "code",
        "colab": {}
      },
      "source": [
        "import pandas as pd\n",
        "from fanalysis.ca import CA"
      ],
      "execution_count": 0,
      "outputs": []
    },
    {
      "cell_type": "code",
      "metadata": {
        "id": "mOk_O-Ep2T-p",
        "colab_type": "code",
        "colab": {}
      },
      "source": [
        "df = pd.read_csv(\"/content/dataset.csv\",delimiter=\";\", header=0, index_col=0, encoding=\"utf-8\")"
      ],
      "execution_count": 0,
      "outputs": []
    },
    {
      "cell_type": "code",
      "metadata": {
        "id": "k7PCHDMG2hVt",
        "colab_type": "code",
        "outputId": "73b58075-2692-429b-970c-9ab4e2b76431",
        "colab": {
          "base_uri": "https://localhost:8080/",
          "height": 235
        }
      },
      "source": [
        "df.head()"
      ],
      "execution_count": 0,
      "outputs": [
        {
          "output_type": "execute_result",
          "data": {
            "text/html": [
              "<div>\n",
              "<style scoped>\n",
              "    .dataframe tbody tr th:only-of-type {\n",
              "        vertical-align: middle;\n",
              "    }\n",
              "\n",
              "    .dataframe tbody tr th {\n",
              "        vertical-align: top;\n",
              "    }\n",
              "\n",
              "    .dataframe thead th {\n",
              "        text-align: right;\n",
              "    }\n",
              "</style>\n",
              "<table border=\"1\" class=\"dataframe\">\n",
              "  <thead>\n",
              "    <tr style=\"text-align: right;\">\n",
              "      <th></th>\n",
              "      <th>Ouvriers</th>\n",
              "      <th>Techniciens</th>\n",
              "      <th>Administratifs</th>\n",
              "      <th>Cadres su</th>\n",
              "      <th>Total</th>\n",
              "    </tr>\n",
              "    <tr>\n",
              "      <th>Age</th>\n",
              "      <th></th>\n",
              "      <th></th>\n",
              "      <th></th>\n",
              "      <th></th>\n",
              "      <th></th>\n",
              "    </tr>\n",
              "  </thead>\n",
              "  <tbody>\n",
              "    <tr>\n",
              "      <th>&lt;30 ans</th>\n",
              "      <td>3</td>\n",
              "      <td>5</td>\n",
              "      <td>2</td>\n",
              "      <td>12</td>\n",
              "      <td>22</td>\n",
              "    </tr>\n",
              "    <tr>\n",
              "      <th>30;40</th>\n",
              "      <td>2</td>\n",
              "      <td>4</td>\n",
              "      <td>3</td>\n",
              "      <td>10</td>\n",
              "      <td>19</td>\n",
              "    </tr>\n",
              "    <tr>\n",
              "      <th>[40;50[</th>\n",
              "      <td>6</td>\n",
              "      <td>15</td>\n",
              "      <td>9</td>\n",
              "      <td>2</td>\n",
              "      <td>32</td>\n",
              "    </tr>\n",
              "    <tr>\n",
              "      <th>&gt;=50</th>\n",
              "      <td>13</td>\n",
              "      <td>7</td>\n",
              "      <td>6</td>\n",
              "      <td>1</td>\n",
              "      <td>27</td>\n",
              "    </tr>\n",
              "    <tr>\n",
              "      <th>Total</th>\n",
              "      <td>24</td>\n",
              "      <td>31</td>\n",
              "      <td>20</td>\n",
              "      <td>25</td>\n",
              "      <td>100</td>\n",
              "    </tr>\n",
              "  </tbody>\n",
              "</table>\n",
              "</div>"
            ],
            "text/plain": [
              "         Ouvriers  Techniciens  Administratifs  Cadres su  Total\n",
              "Age                                                             \n",
              "<30 ans         3            5               2         12     22\n",
              "30;40           2            4               3         10     19\n",
              "[40;50[         6           15               9          2     32\n",
              ">=50           13            7               6          1     27\n",
              "Total          24           31              20         25    100"
            ]
          },
          "metadata": {
            "tags": []
          },
          "execution_count": 217
        }
      ]
    },
    {
      "cell_type": "code",
      "metadata": {
        "id": "GCmKR-9e6mkQ",
        "colab_type": "code",
        "colab": {}
      },
      "source": [
        "my_ca = CA(row_labels=df.index.values, col_labels=df.columns.values)"
      ],
      "execution_count": 0,
      "outputs": []
    },
    {
      "cell_type": "code",
      "metadata": {
        "id": "iAVGv0Ee8pkU",
        "colab_type": "code",
        "outputId": "41c7bd18-489a-48fe-e1da-f8d72832d1ea",
        "colab": {
          "base_uri": "https://localhost:8080/",
          "height": 102
        }
      },
      "source": [
        "X = df.values\n",
        "X = X.astype(float)\n",
        "X"
      ],
      "execution_count": 0,
      "outputs": [
        {
          "output_type": "execute_result",
          "data": {
            "text/plain": [
              "array([[  3.,   5.,   2.,  12.,  22.],\n",
              "       [  2.,   4.,   3.,  10.,  19.],\n",
              "       [  6.,  15.,   9.,   2.,  32.],\n",
              "       [ 13.,   7.,   6.,   1.,  27.],\n",
              "       [ 24.,  31.,  20.,  25., 100.]])"
            ]
          },
          "metadata": {
            "tags": []
          },
          "execution_count": 219
        }
      ]
    },
    {
      "cell_type": "code",
      "metadata": {
        "id": "LeEWn1FIBTDP",
        "colab_type": "code",
        "outputId": "e62cd61f-82d3-4e04-e007-8a682fbcc378",
        "colab": {
          "base_uri": "https://localhost:8080/",
          "height": 102
        }
      },
      "source": [
        "#Tableau de contingence en fréquences \n",
        "print(X/100)"
      ],
      "execution_count": 0,
      "outputs": [
        {
          "output_type": "stream",
          "text": [
            "[[0.03 0.05 0.02 0.12 0.22]\n",
            " [0.02 0.04 0.03 0.1  0.19]\n",
            " [0.06 0.15 0.09 0.02 0.32]\n",
            " [0.13 0.07 0.06 0.01 0.27]\n",
            " [0.24 0.31 0.2  0.25 1.  ]]\n"
          ],
          "name": "stdout"
        }
      ]
    },
    {
      "cell_type": "code",
      "metadata": {
        "id": "Izn1GcFXBTRy",
        "colab_type": "code",
        "colab": {}
      },
      "source": [
        "Y = X\n",
        "#Tableau de profils‐colonnes\n",
        "for i in range(X.shape[0]) :\n",
        "    for j in range(X.shape[1]):\n",
        "      Y[i,j]=(X[i,j]*100) / X[4,j]"
      ],
      "execution_count": 0,
      "outputs": []
    },
    {
      "cell_type": "code",
      "metadata": {
        "id": "AY1x8XbSEAtk",
        "colab_type": "code",
        "outputId": "d4906fee-a8a0-4aab-8649-86bd562bd9f4",
        "colab": {
          "base_uri": "https://localhost:8080/",
          "height": 102
        }
      },
      "source": [
        "np.set_printoptions(precision=3)\n",
        "Y"
      ],
      "execution_count": 0,
      "outputs": [
        {
          "output_type": "execute_result",
          "data": {
            "text/plain": [
              "array([[ 12.5  ,  16.129,  10.   ,  48.   ,  22.   ],\n",
              "       [  8.333,  12.903,  15.   ,  40.   ,  19.   ],\n",
              "       [ 25.   ,  48.387,  45.   ,   8.   ,  32.   ],\n",
              "       [ 54.167,  22.581,  30.   ,   4.   ,  27.   ],\n",
              "       [100.   , 100.   , 100.   , 100.   , 100.   ]])"
            ]
          },
          "metadata": {
            "tags": []
          },
          "execution_count": 227
        }
      ]
    },
    {
      "cell_type": "code",
      "metadata": {
        "id": "WUUeul5sBTjr",
        "colab_type": "code",
        "colab": {}
      },
      "source": [
        "X = df.values\n",
        "X = X.astype(float)\n",
        "Z = X\n",
        "#Tableau de profils‐lignes\n",
        "for i in range(X.shape[0]) :\n",
        "    for j in range(X.shape[1]):\n",
        "      Z[i,j]=((X[i,j]*100) / X[i,4])"
      ],
      "execution_count": 0,
      "outputs": []
    },
    {
      "cell_type": "code",
      "metadata": {
        "id": "10s4TKCDBTPd",
        "colab_type": "code",
        "outputId": "1fe87152-2177-4944-8c4c-476b1cdbdd4b",
        "colab": {
          "base_uri": "https://localhost:8080/",
          "height": 102
        }
      },
      "source": [
        "Z"
      ],
      "execution_count": 0,
      "outputs": [
        {
          "output_type": "execute_result",
          "data": {
            "text/plain": [
              "array([[ 13.64,  22.73,   9.09,  54.55, 100.  ],\n",
              "       [ 10.53,  21.05,  15.79,  52.63, 100.  ],\n",
              "       [ 18.75,  46.88,  28.12,   6.25, 100.  ],\n",
              "       [ 48.15,  25.93,  22.22,   3.7 , 100.  ],\n",
              "       [ 24.  ,  31.  ,  20.  ,  25.  , 100.  ]])"
            ]
          },
          "metadata": {
            "tags": []
          },
          "execution_count": 224
        }
      ]
    },
    {
      "cell_type": "code",
      "metadata": {
        "id": "mlh3VmnBBTKj",
        "colab_type": "code",
        "outputId": "3576ad5d-5850-49da-ef93-663de9f84d41",
        "colab": {
          "base_uri": "https://localhost:8080/",
          "height": 102
        }
      },
      "source": [
        "#Tableau de fréquences théoriques \n",
        "X = df.values\n",
        "X = X.astype(float)\n",
        "Freq = X / 100\n",
        "Fre = Freq\n",
        "for i in range(X.shape[0]) :\n",
        "    for j in range(X.shape[1]):\n",
        "      Fre[i,j]= Freq[4,j] * Freq [i,4]\n",
        "Fre"
      ],
      "execution_count": 0,
      "outputs": [
        {
          "output_type": "execute_result",
          "data": {
            "text/plain": [
              "array([[0.053, 0.068, 0.044, 0.055, 0.22 ],\n",
              "       [0.046, 0.059, 0.038, 0.048, 0.19 ],\n",
              "       [0.077, 0.099, 0.064, 0.08 , 0.32 ],\n",
              "       [0.065, 0.084, 0.054, 0.068, 0.27 ],\n",
              "       [0.24 , 0.31 , 0.2  , 0.25 , 1.   ]])"
            ]
          },
          "metadata": {
            "tags": []
          },
          "execution_count": 228
        }
      ]
    },
    {
      "cell_type": "code",
      "metadata": {
        "id": "xeFEVoMZ9xUH",
        "colab_type": "code",
        "outputId": "e77922cc-dcd5-408b-9314-cb3e194bba22",
        "colab": {
          "base_uri": "https://localhost:8080/",
          "height": 170
        }
      },
      "source": [
        "my_ca.fit(X)"
      ],
      "execution_count": 0,
      "outputs": [
        {
          "output_type": "stream",
          "text": [
            "/usr/local/lib/python3.6/dist-packages/fanalysis/base.py:305: RuntimeWarning: invalid value encountered in true_divide\n",
            "  .reshape(-1, 1)))\n",
            "/usr/local/lib/python3.6/dist-packages/fanalysis/base.py:309: RuntimeWarning: invalid value encountered in true_divide\n",
            "  .reshape(-1, 1))\n"
          ],
          "name": "stderr"
        },
        {
          "output_type": "execute_result",
          "data": {
            "text/plain": [
              "CA(col_labels=array(['Ouvriers', 'Techniciens', 'Administratifs', 'Cadres su', 'Total'],\n",
              "      dtype=object),\n",
              "   n_components=None,\n",
              "   row_labels=array(['<30 ans', '30;40', '[40;50[', '>=50', 'Total'], dtype=object),\n",
              "   stats=True)"
            ]
          },
          "metadata": {
            "tags": []
          },
          "execution_count": 229
        }
      ]
    },
    {
      "cell_type": "code",
      "metadata": {
        "id": "rdrSwDAI8wuR",
        "colab_type": "code",
        "outputId": "736331d2-42f4-4cec-b5b4-f667a3a837db",
        "colab": {
          "base_uri": "https://localhost:8080/",
          "height": 295
        }
      },
      "source": [
        "my_ca.mapping(num_x_axis=1, num_y_axis=2)"
      ],
      "execution_count": 0,
      "outputs": [
        {
          "output_type": "display_data",
          "data": {
            "image/png": "[encoded data removed]",
            "text/plain": [
              "<Figure size 432x288 with 1 Axes>"
            ]
          },
          "metadata": {
            "tags": []
          }
        }
      ]
    },
    {
      "cell_type": "code",
      "metadata": {
        "id": "r1shgk4U89iZ",
        "colab_type": "code",
        "colab": {}
      },
      "source": [
        ""
      ],
      "execution_count": 0,
      "outputs": []
    }
  ]
}